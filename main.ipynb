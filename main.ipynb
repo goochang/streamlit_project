{
 "cells": [
  {
   "cell_type": "code",
   "execution_count": 1,
   "metadata": {},
   "outputs": [],
   "source": [
    "from langchain_openai import ChatOpenAI\n",
    "from langchain_core.messages import HumanMessage\n",
    "from langchain_core.prompts import ChatPromptTemplate\n",
    "from langchain_core.output_parsers import StrOutputParser\n",
    "from langchain.document_loaders import PyPDFLoader\n",
    "from langchain.text_splitter import CharacterTextSplitter\n",
    "from langchain.text_splitter import RecursiveCharacterTextSplitter\n",
    "from langchain_openai import OpenAIEmbeddings\n",
    "import faiss\n",
    "from langchain_community.vectorstores import FAISS\n",
    "from langchain_core.runnables import RunnablePassthrough\n",
    "\n",
    "from dotenv import load_dotenv\n",
    "import os\n",
    "load_dotenv()\n",
    "\n",
    "from langchain_openai import ChatOpenAI\n",
    "from langchain_core.messages import HumanMessage"
   ]
  },
  {
   "cell_type": "code",
   "execution_count": 2,
   "metadata": {},
   "outputs": [],
   "source": [
    "# 모델 초기화\n",
    "model = ChatOpenAI(\n",
    "    api_key=os.environ.get(\"OPENAI_API_KEY\"),\n",
    "    model=\"gpt-4o-mini\")\n",
    "\n",
    "# PDF 파일 로드. 파일의 경로 입력\n",
    "loader = PyPDFLoader(\"resource/ai_trand.pdf\")\n",
    "\n",
    "# 페이지 별 문서 로드\n",
    "docs = loader.load()\n",
    "# CharacterTextSplitter 정의\n",
    "text_splitter = CharacterTextSplitter(\n",
    "    separator=\"\\n\\n\",           # 각 청크를 구분하기 위한 기준 문자열\n",
    "    chunk_size=100,             # 각 청크의 최대 길이\n",
    "    chunk_overlap=10,           # 인접 청크 사이에 중복으로 포함될 문자수\n",
    "    length_function=len,        # 청크의 길이를 계산하는 함수\n",
    "    is_separator_regex=False,\n",
    ")\n",
    "splits = text_splitter.split_documents(docs)\n",
    "\n",
    "# RecursiveCharacterTextSplitter 정의\n",
    "recursive_text_splitter = RecursiveCharacterTextSplitter(\n",
    "    chunk_size=100,\n",
    "    chunk_overlap=10,\n",
    "    length_function=len,\n",
    "    is_separator_regex=False,\n",
    ")\n",
    "splits2 = recursive_text_splitter.split_documents(docs)"
   ]
  },
  {
   "cell_type": "code",
   "execution_count": 3,
   "metadata": {},
   "outputs": [],
   "source": [
    "# OpenAI 임베딩 모델 초기화\n",
    "embeddings = OpenAIEmbeddings(model=\"text-embedding-ada-002\")\n",
    "\n",
    "vectorstore = FAISS.from_documents(documents=splits, embedding=embeddings)\n",
    "# 효율적인 검색을 위해 retriever로 변환\n",
    "retriever = vectorstore.as_retriever(search_type=\"similarity\", search_kwargs={\"k\": 1})\n",
    "\n",
    "# 프롬프트 템플릿 정의\n",
    "contextual_prompt = ChatPromptTemplate.from_messages([\n",
    "    (\"system\", \"Answer the question using only the following context.\"),\n",
    "    (\"user\", \"Context: {context}\\\\n\\\\nQuestion: {question}\")\n",
    "])\n"
   ]
  },
  {
   "cell_type": "code",
   "execution_count": 4,
   "metadata": {},
   "outputs": [
    {
     "name": "stdout",
     "output_type": "stream",
     "text": [
      "========================\n",
      "Final Response:\n",
      "What would you like to know about the November 2024 issue?\n",
      "========================\n",
      "Final Response:\n",
      "'공공 부문의 AI를 위한 G7 툴킷' 보고서의 목적은 공공 부문에서 AI 도입을 위한 모범사례, 거버넌스 프레임워크, 정책 옵션을 제공하고, 안전하고 신뢰할 수 있는 AI의 원칙을 실행 가능한 정책으로 전환할 수 있도록 지원하는 것이다. 이를 통해 G7 회원국들이 공공 부문에서 AI를 효과적으로 활용할 수 있도록 단계별 접근방식을 권고하고 있다.\n",
      "========================\n"
     ]
    }
   ],
   "source": [
    "\n",
    "# 사용자 질문이 그대로 전달되는지 확인하는 passthrough\n",
    "class DebugPassThrough(RunnablePassthrough):\n",
    "    def invoke(self, *args, **kwargs):\n",
    "        output = super().invoke(*args, **kwargs)\n",
    "        # print(\"Debug Output:\", output)\n",
    "        return output\n",
    "# 문서 리스트를 텍스트로 변환하는 단계 추가\n",
    "class ContextToText(RunnablePassthrough):\n",
    "    def invoke(self, inputs, config=None, **kwargs):  # config 인수 추가\n",
    "        # context의 각 문서를 문자열로 결합\n",
    "        context_text = \"\\n\".join([doc.page_content for doc in inputs[\"context\"]])\n",
    "        return {\"context\": context_text, \"question\": inputs[\"question\"]}\n",
    "\n",
    "# RAG 체인에서 각 단계마다 DebugPassThrough 추가\n",
    "rag_chain_debug = {\n",
    "    \"context\": retriever,                    # 컨텍스트를 가져오는 retriever\n",
    "    \"question\": DebugPassThrough()        \n",
    "}  | DebugPassThrough() | ContextToText()|   contextual_prompt | model\n",
    "\n",
    "while True: \n",
    "    print(\"========================\")\n",
    "    query = input(\"질문을 입력하세요: \")\n",
    "    if query == \"quit\":\n",
    "        break\n",
    "\n",
    "    response = rag_chain_debug.invoke(query)\n",
    "    print(\"Final Response:\")\n",
    "    print(response.content)"
   ]
  },
  {
   "cell_type": "markdown",
   "metadata": {},
   "source": [
    "## 과제와 일반 GPT 답변의 차이를 확인하기 위한 질문\n",
    "### 질문 : OECD에서 ai관련 보고서를 발간했다고 하는 '공공 부문의 AI를 위한 G7 툴킷' 보고서의 목적이 뭘까\n",
    "\n",
    "\n",
    "## 과제의 질의 결과\n",
    "##### '공공 부문의 AI를 위한 G7 툴킷' 보고서의 목적은 OECD가 G7 회원국이 작성한 설문 응답 및 연구를 기반으로 공공 부문에서 AI 활용에 대한 모범사례와 \n",
    "##### 거버넌스 프레임워크, 정책 옵션을 제공하여, 안전하고 신뢰할 수 있는 AI의 원칙을 실행 가능한 정책으로 전환할 수 있도록 지원하는 것입니다.\n",
    "##### 또한, 공공 부문 AI 도입을 단계별 접근 방식을 통해 안내하여 위험을 완화하고 효율성을 향상시키기 위한 것입니다.\n",
    "\n",
    "\n",
    "## GPT 답변\n",
    "##### The purpose of the OECD's \"G7 Toolkit for Artificial Intelligence in the Public Sector\" is to provide guidance and support to \n",
    "##### governments, particularly those in the G7, on how to effectively implement and govern AI technologies within the public sector. \n",
    "##### The toolkit emphasizes ensuring AI systems are trustworthy, secure, and operate transparently by promoting ethical standards, \n",
    "##### accountability, and data governance. It outlines strategies for managing AI's integration into public services,\n",
    "\n",
    "\n",
    "## 결과\n",
    "##### GPT의 응답결과도 영문이지만 해석해보면 LLM결과와 비슷한 답변을 가져온걸 알 수 있습니다.\n",
    "##### 한국어로 이루어진 정보가 없는걸 보면 RAG를 활용해야 한글로된 정보를 얻기 편한것 같습니다."
   ]
  }
 ],
 "metadata": {
  "kernelspec": {
   "display_name": "Python 3",
   "language": "python",
   "name": "python3"
  },
  "language_info": {
   "codemirror_mode": {
    "name": "ipython",
    "version": 3
   },
   "file_extension": ".py",
   "mimetype": "text/x-python",
   "name": "python",
   "nbconvert_exporter": "python",
   "pygments_lexer": "ipython3",
   "version": "3.11.10"
  }
 },
 "nbformat": 4,
 "nbformat_minor": 2
}
